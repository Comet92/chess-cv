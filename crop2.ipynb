{
 "cells": [
  {
   "cell_type": "code",
   "execution_count": 1,
   "source": [
    "import cv2\n",
    "import numpy as np\n",
    "from matplotlib import pyplot as plt"
   ],
   "outputs": [],
   "metadata": {}
  },
  {
   "cell_type": "code",
   "execution_count": 9,
   "source": [
    "img = cv2.imread(\"data/CNN/train/Bishop/6.jpg\",0)\n",
    "blur = cv2.GaussianBlur(img,(5,5),0)\n",
    "_, img_binary = cv2.threshold(blur,0,255,cv2.THRESH_BINARY+cv2.THRESH_OTSU)\n",
    "plt.imshow(img_binary)"
   ],
   "outputs": [
    {
     "output_type": "execute_result",
     "data": {
      "text/plain": [
       "<matplotlib.image.AxesImage at 0x12751a7f0>"
      ]
     },
     "metadata": {},
     "execution_count": 9
    },
    {
     "output_type": "display_data",
     "data": {
      "text/plain": [
       "<Figure size 432x288 with 1 Axes>"
      ],
      "image/svg+xml": "<?xml version=\"1.0\" encoding=\"utf-8\" standalone=\"no\"?>\n<!DOCTYPE svg PUBLIC \"-//W3C//DTD SVG 1.1//EN\"\n  \"http://www.w3.org/Graphics/SVG/1.1/DTD/svg11.dtd\">\n<!-- Created with matplotlib (https://matplotlib.org/) -->\n<svg height=\"251.954944pt\" version=\"1.1\" viewBox=\"0 0 149.2075 251.954944\" width=\"149.2075pt\" xmlns=\"http://www.w3.org/2000/svg\" xmlns:xlink=\"http://www.w3.org/1999/xlink\">\n <metadata>\n  <rdf:RDF xmlns:cc=\"http://creativecommons.org/ns#\" xmlns:dc=\"http://purl.org/dc/elements/1.1/\" xmlns:rdf=\"http://www.w3.org/1999/02/22-rdf-syntax-ns#\">\n   <cc:Work>\n    <dc:type rdf:resource=\"http://purl.org/dc/dcmitype/StillImage\"/>\n    <dc:date>2021-09-08T00:09:06.957843</dc:date>\n    <dc:format>image/svg+xml</dc:format>\n    <dc:creator>\n     <cc:Agent>\n      <dc:title>Matplotlib v3.3.2, https://matplotlib.org/</dc:title>\n     </cc:Agent>\n    </dc:creator>\n   </cc:Work>\n  </rdf:RDF>\n </metadata>\n <defs>\n  <style type=\"text/css\">*{stroke-linecap:butt;stroke-linejoin:round;}</style>\n </defs>\n <g id=\"figure_1\">\n  <g id=\"patch_1\">\n   <path d=\"M 0 251.954944 \nL 149.2075 251.954944 \nL 149.2075 0 \nL 0 0 \nz\n\" style=\"fill:none;\"/>\n  </g>\n  <g id=\"axes_1\">\n   <g id=\"patch_2\">\n    <path d=\"M 33.2875 228.076819 \nL 142.0075 228.076819 \nL 142.0075 10.636819 \nL 33.2875 10.636819 \nz\n\" style=\"fill:#ffffff;\"/>\n   </g>\n   <g clip-path=\"url(#p6c331639e3)\">\n    <image height=\"218\" id=\"imagef3d67e1e48\" transform=\"scale(1 -1)translate(0 -218)\" width=\"109\" x=\"33.2875\" xlink:href=\"data:image/png;base64,\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\" y=\"-10.076819\"/>\n   </g>\n   <g id=\"matplotlib.axis_1\">\n    <g id=\"xtick_1\">\n     <g id=\"line2d_1\">\n      <defs>\n       <path d=\"M 0 0 \nL 0 3.5 \n\" id=\"m438b407fc6\" style=\"stroke:#000000;stroke-width:0.8;\"/>\n      </defs>\n      <g>\n       <use style=\"stroke:#000000;stroke-width:0.8;\" x=\"33.6499\" xlink:href=\"#m438b407fc6\" y=\"228.076819\"/>\n      </g>\n     </g>\n     <g id=\"text_1\">\n      <!-- 0 -->\n      <g transform=\"translate(30.46865 242.675256)scale(0.1 -0.1)\">\n       <defs>\n        <path d=\"M 31.78125 66.40625 \nQ 24.171875 66.40625 20.328125 58.90625 \nQ 16.5 51.421875 16.5 36.375 \nQ 16.5 21.390625 20.328125 13.890625 \nQ 24.171875 6.390625 31.78125 6.390625 \nQ 39.453125 6.390625 43.28125 13.890625 \nQ 47.125 21.390625 47.125 36.375 \nQ 47.125 51.421875 43.28125 58.90625 \nQ 39.453125 66.40625 31.78125 66.40625 \nz\nM 31.78125 74.21875 \nQ 44.046875 74.21875 50.515625 64.515625 \nQ 56.984375 54.828125 56.984375 36.375 \nQ 56.984375 17.96875 50.515625 8.265625 \nQ 44.046875 -1.421875 31.78125 -1.421875 \nQ 19.53125 -1.421875 13.0625 8.265625 \nQ 6.59375 17.96875 6.59375 36.375 \nQ 6.59375 54.828125 13.0625 64.515625 \nQ 19.53125 74.21875 31.78125 74.21875 \nz\n\" id=\"DejaVuSans-48\"/>\n       </defs>\n       <use xlink:href=\"#DejaVuSans-48\"/>\n      </g>\n     </g>\n    </g>\n    <g id=\"xtick_2\">\n     <g id=\"line2d_2\">\n      <g>\n       <use style=\"stroke:#000000;stroke-width:0.8;\" x=\"69.8899\" xlink:href=\"#m438b407fc6\" y=\"228.076819\"/>\n      </g>\n     </g>\n     <g id=\"text_2\">\n      <!-- 50 -->\n      <g transform=\"translate(63.5274 242.675256)scale(0.1 -0.1)\">\n       <defs>\n        <path d=\"M 10.796875 72.90625 \nL 49.515625 72.90625 \nL 49.515625 64.59375 \nL 19.828125 64.59375 \nL 19.828125 46.734375 \nQ 21.96875 47.46875 24.109375 47.828125 \nQ 26.265625 48.1875 28.421875 48.1875 \nQ 40.625 48.1875 47.75 41.5 \nQ 54.890625 34.8125 54.890625 23.390625 \nQ 54.890625 11.625 47.5625 5.09375 \nQ 40.234375 -1.421875 26.90625 -1.421875 \nQ 22.3125 -1.421875 17.546875 -0.640625 \nQ 12.796875 0.140625 7.71875 1.703125 \nL 7.71875 11.625 \nQ 12.109375 9.234375 16.796875 8.0625 \nQ 21.484375 6.890625 26.703125 6.890625 \nQ 35.15625 6.890625 40.078125 11.328125 \nQ 45.015625 15.765625 45.015625 23.390625 \nQ 45.015625 31 40.078125 35.4375 \nQ 35.15625 39.890625 26.703125 39.890625 \nQ 22.75 39.890625 18.8125 39.015625 \nQ 14.890625 38.140625 10.796875 36.28125 \nz\n\" id=\"DejaVuSans-53\"/>\n       </defs>\n       <use xlink:href=\"#DejaVuSans-53\"/>\n       <use x=\"63.623047\" xlink:href=\"#DejaVuSans-48\"/>\n      </g>\n     </g>\n    </g>\n    <g id=\"xtick_3\">\n     <g id=\"line2d_3\">\n      <g>\n       <use style=\"stroke:#000000;stroke-width:0.8;\" x=\"106.1299\" xlink:href=\"#m438b407fc6\" y=\"228.076819\"/>\n      </g>\n     </g>\n     <g id=\"text_3\">\n      <!-- 100 -->\n      <g transform=\"translate(96.58615 242.675256)scale(0.1 -0.1)\">\n       <defs>\n        <path d=\"M 12.40625 8.296875 \nL 28.515625 8.296875 \nL 28.515625 63.921875 \nL 10.984375 60.40625 \nL 10.984375 69.390625 \nL 28.421875 72.90625 \nL 38.28125 72.90625 \nL 38.28125 8.296875 \nL 54.390625 8.296875 \nL 54.390625 0 \nL 12.40625 0 \nz\n\" id=\"DejaVuSans-49\"/>\n       </defs>\n       <use xlink:href=\"#DejaVuSans-49\"/>\n       <use x=\"63.623047\" xlink:href=\"#DejaVuSans-48\"/>\n       <use x=\"127.246094\" xlink:href=\"#DejaVuSans-48\"/>\n      </g>\n     </g>\n    </g>\n   </g>\n   <g id=\"matplotlib.axis_2\">\n    <g id=\"ytick_1\">\n     <g id=\"line2d_4\">\n      <defs>\n       <path d=\"M 0 0 \nL -3.5 0 \n\" id=\"m3d6d2900a1\" style=\"stroke:#000000;stroke-width:0.8;\"/>\n      </defs>\n      <g>\n       <use style=\"stroke:#000000;stroke-width:0.8;\" x=\"33.2875\" xlink:href=\"#m3d6d2900a1\" y=\"10.999219\"/>\n      </g>\n     </g>\n     <g id=\"text_4\">\n      <!-- 0 -->\n      <g transform=\"translate(19.925 14.798437)scale(0.1 -0.1)\">\n       <use xlink:href=\"#DejaVuSans-48\"/>\n      </g>\n     </g>\n    </g>\n    <g id=\"ytick_2\">\n     <g id=\"line2d_5\">\n      <g>\n       <use style=\"stroke:#000000;stroke-width:0.8;\" x=\"33.2875\" xlink:href=\"#m3d6d2900a1\" y=\"47.239219\"/>\n      </g>\n     </g>\n     <g id=\"text_5\">\n      <!-- 50 -->\n      <g transform=\"translate(13.5625 51.038437)scale(0.1 -0.1)\">\n       <use xlink:href=\"#DejaVuSans-53\"/>\n       <use x=\"63.623047\" xlink:href=\"#DejaVuSans-48\"/>\n      </g>\n     </g>\n    </g>\n    <g id=\"ytick_3\">\n     <g id=\"line2d_6\">\n      <g>\n       <use style=\"stroke:#000000;stroke-width:0.8;\" x=\"33.2875\" xlink:href=\"#m3d6d2900a1\" y=\"83.479219\"/>\n      </g>\n     </g>\n     <g id=\"text_6\">\n      <!-- 100 -->\n      <g transform=\"translate(7.2 87.278437)scale(0.1 -0.1)\">\n       <use xlink:href=\"#DejaVuSans-49\"/>\n       <use x=\"63.623047\" xlink:href=\"#DejaVuSans-48\"/>\n       <use x=\"127.246094\" xlink:href=\"#DejaVuSans-48\"/>\n      </g>\n     </g>\n    </g>\n    <g id=\"ytick_4\">\n     <g id=\"line2d_7\">\n      <g>\n       <use style=\"stroke:#000000;stroke-width:0.8;\" x=\"33.2875\" xlink:href=\"#m3d6d2900a1\" y=\"119.719219\"/>\n      </g>\n     </g>\n     <g id=\"text_7\">\n      <!-- 150 -->\n      <g transform=\"translate(7.2 123.518437)scale(0.1 -0.1)\">\n       <use xlink:href=\"#DejaVuSans-49\"/>\n       <use x=\"63.623047\" xlink:href=\"#DejaVuSans-53\"/>\n       <use x=\"127.246094\" xlink:href=\"#DejaVuSans-48\"/>\n      </g>\n     </g>\n    </g>\n    <g id=\"ytick_5\">\n     <g id=\"line2d_8\">\n      <g>\n       <use style=\"stroke:#000000;stroke-width:0.8;\" x=\"33.2875\" xlink:href=\"#m3d6d2900a1\" y=\"155.959219\"/>\n      </g>\n     </g>\n     <g id=\"text_8\">\n      <!-- 200 -->\n      <g transform=\"translate(7.2 159.758437)scale(0.1 -0.1)\">\n       <defs>\n        <path d=\"M 19.1875 8.296875 \nL 53.609375 8.296875 \nL 53.609375 0 \nL 7.328125 0 \nL 7.328125 8.296875 \nQ 12.9375 14.109375 22.625 23.890625 \nQ 32.328125 33.6875 34.8125 36.53125 \nQ 39.546875 41.84375 41.421875 45.53125 \nQ 43.3125 49.21875 43.3125 52.78125 \nQ 43.3125 58.59375 39.234375 62.25 \nQ 35.15625 65.921875 28.609375 65.921875 \nQ 23.96875 65.921875 18.8125 64.3125 \nQ 13.671875 62.703125 7.8125 59.421875 \nL 7.8125 69.390625 \nQ 13.765625 71.78125 18.9375 73 \nQ 24.125 74.21875 28.421875 74.21875 \nQ 39.75 74.21875 46.484375 68.546875 \nQ 53.21875 62.890625 53.21875 53.421875 \nQ 53.21875 48.921875 51.53125 44.890625 \nQ 49.859375 40.875 45.40625 35.40625 \nQ 44.1875 33.984375 37.640625 27.21875 \nQ 31.109375 20.453125 19.1875 8.296875 \nz\n\" id=\"DejaVuSans-50\"/>\n       </defs>\n       <use xlink:href=\"#DejaVuSans-50\"/>\n       <use x=\"63.623047\" xlink:href=\"#DejaVuSans-48\"/>\n       <use x=\"127.246094\" xlink:href=\"#DejaVuSans-48\"/>\n      </g>\n     </g>\n    </g>\n    <g id=\"ytick_6\">\n     <g id=\"line2d_9\">\n      <g>\n       <use style=\"stroke:#000000;stroke-width:0.8;\" x=\"33.2875\" xlink:href=\"#m3d6d2900a1\" y=\"192.199219\"/>\n      </g>\n     </g>\n     <g id=\"text_9\">\n      <!-- 250 -->\n      <g transform=\"translate(7.2 195.998437)scale(0.1 -0.1)\">\n       <use xlink:href=\"#DejaVuSans-50\"/>\n       <use x=\"63.623047\" xlink:href=\"#DejaVuSans-53\"/>\n       <use x=\"127.246094\" xlink:href=\"#DejaVuSans-48\"/>\n      </g>\n     </g>\n    </g>\n   </g>\n   <g id=\"patch_3\">\n    <path d=\"M 33.2875 228.076819 \nL 33.2875 10.636819 \n\" style=\"fill:none;stroke:#000000;stroke-linecap:square;stroke-linejoin:miter;stroke-width:0.8;\"/>\n   </g>\n   <g id=\"patch_4\">\n    <path d=\"M 142.0075 228.076819 \nL 142.0075 10.636819 \n\" style=\"fill:none;stroke:#000000;stroke-linecap:square;stroke-linejoin:miter;stroke-width:0.8;\"/>\n   </g>\n   <g id=\"patch_5\">\n    <path d=\"M 33.2875 228.076819 \nL 142.0075 228.076819 \n\" style=\"fill:none;stroke:#000000;stroke-linecap:square;stroke-linejoin:miter;stroke-width:0.8;\"/>\n   </g>\n   <g id=\"patch_6\">\n    <path d=\"M 33.2875 10.636819 \nL 142.0075 10.636819 \n\" style=\"fill:none;stroke:#000000;stroke-linecap:square;stroke-linejoin:miter;stroke-width:0.8;\"/>\n   </g>\n  </g>\n </g>\n <defs>\n  <clipPath id=\"p6c331639e3\">\n   <rect height=\"217.44\" width=\"108.72\" x=\"33.2875\" y=\"10.636819\"/>\n  </clipPath>\n </defs>\n</svg>\n",
      "image/png": "[encoded data removed]"
     },
     "metadata": {
      "needs_background": "light"
     }
    }
   ],
   "metadata": {}
  },
  {
   "cell_type": "code",
   "execution_count": 4,
   "source": [
    "img.shape"
   ],
   "outputs": [
    {
     "output_type": "error",
     "ename": "AttributeError",
     "evalue": "'NoneType' object has no attribute 'shape'",
     "traceback": [
      "\u001b[0;31m---------------------------------------------------------------------------\u001b[0m",
      "\u001b[0;31mAttributeError\u001b[0m                            Traceback (most recent call last)",
      "\u001b[0;32m<ipython-input-4-32ad6cb7aa56>\u001b[0m in \u001b[0;36m<module>\u001b[0;34m\u001b[0m\n\u001b[0;32m----> 1\u001b[0;31m \u001b[0mimg\u001b[0m\u001b[0;34m.\u001b[0m\u001b[0mshape\u001b[0m\u001b[0;34m\u001b[0m\u001b[0;34m\u001b[0m\u001b[0m\n\u001b[0m",
      "\u001b[0;31mAttributeError\u001b[0m: 'NoneType' object has no attribute 'shape'"
     ]
    }
   ],
   "metadata": {}
  },
  {
   "cell_type": "code",
   "execution_count": 46,
   "source": [
    "n = 8\n",
    "k = 2\n",
    "dp = [0]* (n+2*k-1)\n",
    "c = [1,5,0,3,1,2,0,7]"
   ],
   "outputs": [],
   "metadata": {}
  },
  {
   "cell_type": "code",
   "execution_count": 47,
   "source": [
    "# Base cases\n",
    "for i in range(2*k):\n",
    "    num = 0\n",
    "    for j in range(i+1):\n",
    "        num += c[j]*(k-j+i)\n",
    "    dp[i] = num"
   ],
   "outputs": [],
   "metadata": {}
  },
  {
   "cell_type": "code",
   "execution_count": 48,
   "source": [
    "dp"
   ],
   "outputs": [
    {
     "output_type": "execute_result",
     "data": {
      "text/plain": [
       "[2, 13, 19, 31, 0, 0, 0, 0, 0, 0, 0]"
      ]
     },
     "metadata": {},
     "execution_count": 48
    }
   ],
   "metadata": {}
  },
  {
   "cell_type": "code",
   "execution_count": 87,
   "source": [
    "# Recursion\n",
    "for p in range(2*k, len(dp)):\n",
    "    num = 1e6\n",
    "    for low in range(max(0, p-4*k+1), p-2*k+1):\n",
    "        curr = dp[low]\n",
    "        for i in range(low+1, min(p, n-1)):\n",
    "            curr += c[i] * (p-i+k)\n",
    "            # curr += c[i] * (2*p-low-k+1-i+1)\n",
    "            if p == 4:\n",
    "                print(c[i] * (p-i+k))\n",
    "        num = min(num, curr)\n",
    "        if p == 4:\n",
    "            print(num)\n",
    "    dp[p]= num"
   ],
   "outputs": [
    {
     "output_type": "stream",
     "name": "stdout",
     "text": [
      "25\n",
      "0\n",
      "9\n",
      "36\n"
     ]
    }
   ],
   "metadata": {}
  },
  {
   "cell_type": "code",
   "execution_count": 88,
   "source": [
    "dp"
   ],
   "outputs": [
    {
     "output_type": "execute_result",
     "data": {
      "text/plain": [
       "[2, 13, 19, 31, 36, 28, 38, 44, 46, 28, 28]"
      ]
     },
     "metadata": {},
     "execution_count": 88
    }
   ],
   "metadata": {}
  },
  {
   "cell_type": "code",
   "execution_count": 94,
   "source": [
    "n = 8\n",
    "k = 2\n",
    "dp = [0]* (n+2*k-1+1)\n",
    "c = [0,1,5,0,3,1,2,0,7]"
   ],
   "outputs": [],
   "metadata": {}
  },
  {
   "cell_type": "code",
   "execution_count": 117,
   "source": [
    "for j in range(1, 2*k+1):\n",
    "    num = 0\n",
    "    for i in range(1, j+1):\n",
    "        num += c[i]*(j-i+k)\n",
    "    dp[i] = num\n",
    "\n",
    "for p in range(2*k+1, len(dp)):\n",
    "    num = 1e5\n",
    "    for j in range(max(p-4*k+1, 1), p-2*k+1):\n",
    "        curr = dp[j]\n",
    "        for i in range(j+1, min(p, n)+1):\n",
    "            curr += c[i]*(p-i+k)\n",
    "        num = min(num, curr)\n",
    "    dp[p] = num"
   ],
   "outputs": [],
   "metadata": {}
  },
  {
   "cell_type": "code",
   "execution_count": 119,
   "source": [
    "print(dp)\n",
    "print(min(dp[n:n+2*k-1+1]))"
   ],
   "outputs": [
    {
     "output_type": "stream",
     "name": "stdout",
     "text": [
      "[0, 2, 13, 19, 31, 38, 32, 38, 58, 68, 60, 67]\n",
      "58\n"
     ]
    }
   ],
   "metadata": {}
  },
  {
   "cell_type": "code",
   "execution_count": 121,
   "source": [
    "C = c.copy()\n",
    "for i in range(1, len(C)):\n",
    "    C[i]= C[i-1] + c[i]"
   ],
   "outputs": [],
   "metadata": {}
  },
  {
   "cell_type": "code",
   "execution_count": 122,
   "source": [
    "C"
   ],
   "outputs": [
    {
     "output_type": "execute_result",
     "data": {
      "text/plain": [
       "[0, 1, 6, 6, 9, 10, 12, 12, 19]"
      ]
     },
     "metadata": {},
     "execution_count": 122
    }
   ],
   "metadata": {}
  },
  {
   "cell_type": "code",
   "execution_count": 131,
   "source": [
    "DP = [0] * len(dp)"
   ],
   "outputs": [],
   "metadata": {}
  },
  {
   "cell_type": "code",
   "execution_count": 134,
   "source": [
    "for j in range(1, 2*k+1):\n",
    "    DP[j] = c[j]*k + DP[j-1] + C[j-1]\n",
    "\n",
    "\n",
    "for p in range(2*k+1, len(DP)):\n",
    "    currSum = 0\n",
    "    for i in range(p-2*k+1, min(p, n)+1):\n",
    "        currSum += c[i]*(p-i+k)\n",
    "    num = 1e5\n",
    "    for j in range(p-2*k, max(p-4*k+1-1, -1), -1):\n",
    "        curr = DP[j] + currSum\n",
    "        num = min(num, curr)\n",
    "        currSum += c[j] * (p-j+k)\n",
    "    DP[p] = num"
   ],
   "outputs": [],
   "metadata": {}
  },
  {
   "cell_type": "code",
   "execution_count": 135,
   "source": [
    "DP"
   ],
   "outputs": [
    {
     "output_type": "execute_result",
     "data": {
      "text/plain": [
       "[0, 2, 13, 19, 31, 38, 32, 38, 58, 68, 60, 67]"
      ]
     },
     "metadata": {},
     "execution_count": 135
    }
   ],
   "metadata": {}
  },
  {
   "cell_type": "code",
   "execution_count": 136,
   "source": [
    "dp"
   ],
   "outputs": [
    {
     "output_type": "execute_result",
     "data": {
      "text/plain": [
       "[0, 2, 13, 19, 31, 38, 32, 38, 58, 68, 60, 67]"
      ]
     },
     "metadata": {},
     "execution_count": 136
    }
   ],
   "metadata": {}
  },
  {
   "cell_type": "code",
   "execution_count": 4,
   "source": [
    "from math import floor\n",
    "for i in range(floor(2.7)):\n",
    "    print(i)"
   ],
   "outputs": [
    {
     "output_type": "stream",
     "name": "stdout",
     "text": [
      "0\n",
      "1\n"
     ]
    }
   ],
   "metadata": {}
  },
  {
   "cell_type": "code",
   "execution_count": 7,
   "source": [
    "for q,w in zip(a,b):\n",
    "    print(q,w)"
   ],
   "outputs": [
    {
     "output_type": "stream",
     "name": "stdout",
     "text": [
      "1 4\n",
      "2 5\n",
      "3 6\n"
     ]
    }
   ],
   "metadata": {}
  },
  {
   "cell_type": "code",
   "execution_count": 9,
   "source": [
    "word = \"programmer\"\n",
    "curr = 0\n",
    "for left in range(len(S)):\n",
    "    if S[left] == word[curr]:\n",
    "        curr += 1\n",
    "    if curr == len(word):\n",
    "        break\n",
    "curr = 0\n",
    "for right in range(len(S)-1, -1, -1):\n",
    "    if S[right] == word[curr]:\n",
    "        curr += 1\n",
    "    if curr == len(word):\n",
    "        break\n",
    "return right-left-1"
   ],
   "outputs": [
    {
     "output_type": "stream",
     "name": "stdout",
     "text": [
      "0\n",
      "1\n",
      "2\n",
      "3\n",
      "4\n"
     ]
    }
   ],
   "metadata": {}
  },
  {
   "cell_type": "code",
   "execution_count": 11,
   "source": [
    "for i in range(5):\n",
    "    if i == 3:\n",
    "        break"
   ],
   "outputs": [],
   "metadata": {}
  },
  {
   "cell_type": "code",
   "execution_count": 19,
   "source": [
    "4/2"
   ],
   "outputs": [
    {
     "output_type": "execute_result",
     "data": {
      "text/plain": [
       "2.0"
      ]
     },
     "metadata": {},
     "execution_count": 19
    }
   ],
   "metadata": {}
  },
  {
   "cell_type": "code",
   "execution_count": 138,
   "source": [
    "def divide_and_conquer(photos):\n",
    "    '''Given a list [photos], finds and returns a set of all elements\n",
    "    that repeat more than n/3 times, as well as counts,\n",
    "    where n is the length of [photos]. \n",
    "    '''\n",
    "    n = len(photos)\n",
    "    A = {}\n",
    "    if n == 1:\n",
    "        A[photos[0]] = 1\n",
    "        return A\n",
    "    # elif n == 2:\n",
    "    #     if photos[0] == photos[1]:\n",
    "    #         A[photos[0]] = 2\n",
    "    #     else:\n",
    "    #         A[photos[0]] = 1\n",
    "    #         A[photos[1]] = 1\n",
    "    #     return A\n",
    "    # elif n == 4:\n",
    "    #     for i in range(n):\n",
    "    #         count = 1\n",
    "    #         for j in range(i+1,n):\n",
    "    #             if photos[i] == photos[j]:\n",
    "    #                 count += 1\n",
    "    #         if count > 1 and (photos[i] not in A or A[photos[i]] < count):\n",
    "    #             A[photos[i]] = count\n",
    "    #     return A\n",
    "    \n",
    "    A1 = divide_and_conquer(photos[:n//2])\n",
    "    A2 = divide_and_conquer(photos[n//2:])\n",
    "\n",
    "    # print(A1, A2)\n",
    "\n",
    "    for m1 in A1.keys():\n",
    "        for m2 in photos[n//2:]:\n",
    "            if m1 == m2:\n",
    "                A1[m1] += 1\n",
    "        if A1[m1] > n//3:\n",
    "            A[m1] = A1[m1]\n",
    "    for m2 in A2.keys():\n",
    "        if m2 in A1.keys():\n",
    "            continue\n",
    "        for m1 in photos[:n//2]:\n",
    "            if m1 == m2:\n",
    "                A2[m2] += 1\n",
    "        if A2[m2] > n//3:\n",
    "            A[m2] = A2[m2]\n",
    "\n",
    "    return A"
   ],
   "outputs": [],
   "metadata": {}
  },
  {
   "cell_type": "code",
   "execution_count": 137,
   "source": [
    "photos = [1,1,2,2,3,3,4,2,1,1,2,1,1,2,8,2]\n",
    "divide_and_conquer(photos)"
   ],
   "outputs": [
    {
     "output_type": "execute_result",
     "data": {
      "text/plain": [
       "{2: 6, 1: 6}"
      ]
     },
     "metadata": {},
     "execution_count": 137
    }
   ],
   "metadata": {}
  },
  {
   "cell_type": "code",
   "execution_count": 126,
   "source": [
    "divide_and_conquer(photos[:4])"
   ],
   "outputs": [
    {
     "output_type": "execute_result",
     "data": {
      "text/plain": [
       "{1: 2, 2: 2}"
      ]
     },
     "metadata": {},
     "execution_count": 126
    }
   ],
   "metadata": {}
  },
  {
   "cell_type": "code",
   "execution_count": null,
   "source": [],
   "outputs": [],
   "metadata": {}
  }
 ],
 "metadata": {
  "orig_nbformat": 4,
  "language_info": {
   "name": "python",
   "version": "3.8.5",
   "mimetype": "text/x-python",
   "codemirror_mode": {
    "name": "ipython",
    "version": 3
   },
   "pygments_lexer": "ipython3",
   "nbconvert_exporter": "python",
   "file_extension": ".py"
  },
  "kernelspec": {
   "name": "python3",
   "display_name": "Python 3.8.5 64-bit ('base': conda)"
  },
  "interpreter": {
   "hash": "dca0ade3e726a953b501b15e8e990130d2b7799f14cfd9f4271676035ebe5511"
  }
 },
 "nbformat": 4,
 "nbformat_minor": 2
}